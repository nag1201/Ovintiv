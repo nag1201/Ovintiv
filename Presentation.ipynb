{
 "cells": [
  {
   "cell_type": "markdown",
   "metadata": {},
   "source": [
    "# International investment position\n",
    "### market value by currency, quarterly\n",
    "\n"
   ]
  },
  {
   "cell_type": "markdown",
   "metadata": {},
   "source": [
    "This presentation contains the description of the data base from [Government of Canada](https://open.canada.ca/data/en/dataset/67e5b0f7-6307-4e13-8432-c4cd1e2e1adc).\n",
    "\n",
    "Canada’s international investment position (IIP) measures the value of:\n",
    "\n",
    "* Foreign assets owned by its residents (external assets)\n",
    "* Domestic assets owned by foreigners (external liabilities)\n",
    "* Net investment position is the difference between what Canada owns (its external assets) and what Canada owes (its external liabilities) to non-residents.\n"
   ]
  },
  {
   "cell_type": "code",
   "execution_count": 10,
   "metadata": {},
   "outputs": [],
   "source": [
    "import numpy as np\n",
    "import pandas as pd\n",
    "import matplotlib.pyplot as plt"
   ]
  },
  {
   "cell_type": "code",
   "execution_count": 12,
   "metadata": {},
   "outputs": [
    {
     "name": "stdout",
     "output_type": "stream",
     "text": [
      "<class 'pandas.core.frame.DataFrame'>\n",
      "RangeIndex: 3014 entries, 0 to 3013\n",
      "Data columns (total 17 columns):\n",
      " #   Column                                      Non-Null Count  Dtype  \n",
      "---  ------                                      --------------  -----  \n",
      " 0   REF_DATE                                    3014 non-null   object \n",
      " 1   GEO                                         3014 non-null   object \n",
      " 2   DGUID                                       3014 non-null   object \n",
      " 3   Canada's international investment position  3014 non-null   object \n",
      " 4   Geographic region                           3014 non-null   object \n",
      " 5   Currency                                    3014 non-null   object \n",
      " 6   UOM                                         3014 non-null   object \n",
      " 7   UOM_ID                                      3014 non-null   int64  \n",
      " 8   SCALAR_FACTOR                               3014 non-null   object \n",
      " 9   SCALAR_ID                                   3014 non-null   int64  \n",
      " 10  VECTOR                                      3014 non-null   object \n",
      " 11  COORDINATE                                  3014 non-null   object \n",
      " 12  VALUE                                       3003 non-null   float64\n",
      " 13  STATUS                                      11 non-null     object \n",
      " 14  SYMBOL                                      0 non-null      float64\n",
      " 15  TERMINATED                                  0 non-null      float64\n",
      " 16  DECIMALS                                    3014 non-null   int64  \n",
      "dtypes: float64(3), int64(3), object(11)\n",
      "memory usage: 400.4+ KB\n"
     ]
    }
   ],
   "source": [
    "# add data\n",
    "df = pd.read_csv('./36100412.csv')\n",
    "df.info()"
   ]
  },
  {
   "cell_type": "markdown",
   "metadata": {},
   "source": [
    "As we can see, this data base contains 17 variables and 3014 observations, from those variables the ones that are must of our interes are:\n",
    "\n",
    "* REF_DATE, which contains the quarter of the year\n"
   ]
  },
  {
   "cell_type": "code",
   "execution_count": null,
   "metadata": {},
   "outputs": [],
   "source": []
  }
 ],
 "metadata": {
  "kernelspec": {
   "display_name": "Python 3",
   "language": "python",
   "name": "python3"
  },
  "language_info": {
   "codemirror_mode": {
    "name": "ipython",
    "version": 3
   },
   "file_extension": ".py",
   "mimetype": "text/x-python",
   "name": "python",
   "nbconvert_exporter": "python",
   "pygments_lexer": "ipython3",
   "version": "3.7.6"
  }
 },
 "nbformat": 4,
 "nbformat_minor": 4
}
