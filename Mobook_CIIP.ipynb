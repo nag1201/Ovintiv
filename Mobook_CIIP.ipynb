{
 "cells": [
  {
   "cell_type": "code",
   "execution_count": 87,
   "metadata": {},
   "outputs": [],
   "source": [
    "import numpy as np\n",
    "import pandas as pd\n",
    "import matplotlib.pyplot as plt"
   ]
  },
  {
   "cell_type": "code",
   "execution_count": 2,
   "metadata": {},
   "outputs": [
    {
     "name": "stdout",
     "output_type": "stream",
     "text": [
      "<class 'pandas.core.frame.DataFrame'>\n",
      "RangeIndex: 3014 entries, 0 to 3013\n",
      "Data columns (total 17 columns):\n",
      " #   Column                                      Non-Null Count  Dtype  \n",
      "---  ------                                      --------------  -----  \n",
      " 0   REF_DATE                                    3014 non-null   object \n",
      " 1   GEO                                         3014 non-null   object \n",
      " 2   DGUID                                       3014 non-null   object \n",
      " 3   Canada's international investment position  3014 non-null   object \n",
      " 4   Geographic region                           3014 non-null   object \n",
      " 5   Currency                                    3014 non-null   object \n",
      " 6   UOM                                         3014 non-null   object \n",
      " 7   UOM_ID                                      3014 non-null   int64  \n",
      " 8   SCALAR_FACTOR                               3014 non-null   object \n",
      " 9   SCALAR_ID                                   3014 non-null   int64  \n",
      " 10  VECTOR                                      3014 non-null   object \n",
      " 11  COORDINATE                                  3014 non-null   object \n",
      " 12  VALUE                                       3003 non-null   float64\n",
      " 13  STATUS                                      11 non-null     object \n",
      " 14  SYMBOL                                      0 non-null      float64\n",
      " 15  TERMINATED                                  0 non-null      float64\n",
      " 16  DECIMALS                                    3014 non-null   int64  \n",
      "dtypes: float64(3), int64(3), object(11)\n",
      "memory usage: 400.4+ KB\n"
     ]
    }
   ],
   "source": [
    "df = pd.read_csv('./36100412-eng/36100412.csv')\n",
    "df.info()"
   ]
  },
  {
   "cell_type": "code",
   "execution_count": 3,
   "metadata": {},
   "outputs": [
    {
     "name": "stdout",
     "output_type": "stream",
     "text": [
      "<class 'pandas.core.frame.DataFrame'>\n",
      "RangeIndex: 3014 entries, 0 to 3013\n",
      "Data columns (total 15 columns):\n",
      " #   Column                                      Non-Null Count  Dtype  \n",
      "---  ------                                      --------------  -----  \n",
      " 0   REF_DATE                                    3014 non-null   object \n",
      " 1   GEO                                         3014 non-null   object \n",
      " 2   DGUID                                       3014 non-null   object \n",
      " 3   Canada's international investment position  3014 non-null   object \n",
      " 4   Geographic region                           3014 non-null   object \n",
      " 5   Currency                                    3014 non-null   object \n",
      " 6   UOM                                         3014 non-null   object \n",
      " 7   UOM_ID                                      3014 non-null   int64  \n",
      " 8   SCALAR_FACTOR                               3014 non-null   object \n",
      " 9   SCALAR_ID                                   3014 non-null   int64  \n",
      " 10  VECTOR                                      3014 non-null   object \n",
      " 11  COORDINATE                                  3014 non-null   object \n",
      " 12  VALUE                                       3003 non-null   float64\n",
      " 13  STATUS                                      11 non-null     object \n",
      " 14  DECIMALS                                    3014 non-null   int64  \n",
      "dtypes: float64(1), int64(3), object(11)\n",
      "memory usage: 353.3+ KB\n"
     ]
    }
   ],
   "source": [
    "df.drop(columns=[\"SYMBOL\", \"TERMINATED\"], inplace=True)\n",
    "#df.REF_DATE = pd.to_datetime(df.REF_DATE)\n",
    "df.info()"
   ]
  },
  {
   "cell_type": "code",
   "execution_count": 4,
   "metadata": {},
   "outputs": [
    {
     "data": {
      "text/html": [
       "<div>\n",
       "<style scoped>\n",
       "    .dataframe tbody tr th:only-of-type {\n",
       "        vertical-align: middle;\n",
       "    }\n",
       "\n",
       "    .dataframe tbody tr th {\n",
       "        vertical-align: top;\n",
       "    }\n",
       "\n",
       "    .dataframe thead th {\n",
       "        text-align: right;\n",
       "    }\n",
       "</style>\n",
       "<table border=\"1\" class=\"dataframe\">\n",
       "  <thead>\n",
       "    <tr style=\"text-align: right;\">\n",
       "      <th></th>\n",
       "      <th>REF_DATE</th>\n",
       "      <th>GEO</th>\n",
       "      <th>DGUID</th>\n",
       "      <th>Canada's international investment position</th>\n",
       "      <th>Geographic region</th>\n",
       "      <th>Currency</th>\n",
       "      <th>UOM</th>\n",
       "      <th>UOM_ID</th>\n",
       "      <th>SCALAR_FACTOR</th>\n",
       "      <th>SCALAR_ID</th>\n",
       "      <th>VECTOR</th>\n",
       "      <th>COORDINATE</th>\n",
       "      <th>VALUE</th>\n",
       "      <th>STATUS</th>\n",
       "      <th>DECIMALS</th>\n",
       "    </tr>\n",
       "  </thead>\n",
       "  <tbody>\n",
       "    <tr>\n",
       "      <th>29</th>\n",
       "      <td>2015-01</td>\n",
       "      <td>Canada</td>\n",
       "      <td>2016A000011124</td>\n",
       "      <td>Canadian portfolio investment, foreign equity ...</td>\n",
       "      <td>All countries</td>\n",
       "      <td>Canadian dollar</td>\n",
       "      <td>Dollars</td>\n",
       "      <td>81</td>\n",
       "      <td>millions</td>\n",
       "      <td>6</td>\n",
       "      <td>v115115405</td>\n",
       "      <td>1.5.1.2</td>\n",
       "      <td>NaN</td>\n",
       "      <td>..</td>\n",
       "      <td>0</td>\n",
       "    </tr>\n",
       "    <tr>\n",
       "      <th>173</th>\n",
       "      <td>2015-04</td>\n",
       "      <td>Canada</td>\n",
       "      <td>2016A000011124</td>\n",
       "      <td>Canadian portfolio investment, foreign equity ...</td>\n",
       "      <td>All countries</td>\n",
       "      <td>Canadian dollar</td>\n",
       "      <td>Dollars</td>\n",
       "      <td>81</td>\n",
       "      <td>millions</td>\n",
       "      <td>6</td>\n",
       "      <td>v115115405</td>\n",
       "      <td>1.5.1.2</td>\n",
       "      <td>NaN</td>\n",
       "      <td>..</td>\n",
       "      <td>0</td>\n",
       "    </tr>\n",
       "    <tr>\n",
       "      <th>317</th>\n",
       "      <td>2015-07</td>\n",
       "      <td>Canada</td>\n",
       "      <td>2016A000011124</td>\n",
       "      <td>Canadian portfolio investment, foreign equity ...</td>\n",
       "      <td>All countries</td>\n",
       "      <td>Canadian dollar</td>\n",
       "      <td>Dollars</td>\n",
       "      <td>81</td>\n",
       "      <td>millions</td>\n",
       "      <td>6</td>\n",
       "      <td>v115115405</td>\n",
       "      <td>1.5.1.2</td>\n",
       "      <td>NaN</td>\n",
       "      <td>..</td>\n",
       "      <td>0</td>\n",
       "    </tr>\n",
       "    <tr>\n",
       "      <th>461</th>\n",
       "      <td>2015-10</td>\n",
       "      <td>Canada</td>\n",
       "      <td>2016A000011124</td>\n",
       "      <td>Canadian portfolio investment, foreign equity ...</td>\n",
       "      <td>All countries</td>\n",
       "      <td>Canadian dollar</td>\n",
       "      <td>Dollars</td>\n",
       "      <td>81</td>\n",
       "      <td>millions</td>\n",
       "      <td>6</td>\n",
       "      <td>v115115405</td>\n",
       "      <td>1.5.1.2</td>\n",
       "      <td>NaN</td>\n",
       "      <td>..</td>\n",
       "      <td>0</td>\n",
       "    </tr>\n",
       "    <tr>\n",
       "      <th>605</th>\n",
       "      <td>2016-01</td>\n",
       "      <td>Canada</td>\n",
       "      <td>2016A000011124</td>\n",
       "      <td>Canadian portfolio investment, foreign equity ...</td>\n",
       "      <td>All countries</td>\n",
       "      <td>Canadian dollar</td>\n",
       "      <td>Dollars</td>\n",
       "      <td>81</td>\n",
       "      <td>millions</td>\n",
       "      <td>6</td>\n",
       "      <td>v115115405</td>\n",
       "      <td>1.5.1.2</td>\n",
       "      <td>NaN</td>\n",
       "      <td>..</td>\n",
       "      <td>0</td>\n",
       "    </tr>\n",
       "    <tr>\n",
       "      <th>749</th>\n",
       "      <td>2016-04</td>\n",
       "      <td>Canada</td>\n",
       "      <td>2016A000011124</td>\n",
       "      <td>Canadian portfolio investment, foreign equity ...</td>\n",
       "      <td>All countries</td>\n",
       "      <td>Canadian dollar</td>\n",
       "      <td>Dollars</td>\n",
       "      <td>81</td>\n",
       "      <td>millions</td>\n",
       "      <td>6</td>\n",
       "      <td>v115115405</td>\n",
       "      <td>1.5.1.2</td>\n",
       "      <td>NaN</td>\n",
       "      <td>..</td>\n",
       "      <td>0</td>\n",
       "    </tr>\n",
       "    <tr>\n",
       "      <th>893</th>\n",
       "      <td>2016-07</td>\n",
       "      <td>Canada</td>\n",
       "      <td>2016A000011124</td>\n",
       "      <td>Canadian portfolio investment, foreign equity ...</td>\n",
       "      <td>All countries</td>\n",
       "      <td>Canadian dollar</td>\n",
       "      <td>Dollars</td>\n",
       "      <td>81</td>\n",
       "      <td>millions</td>\n",
       "      <td>6</td>\n",
       "      <td>v115115405</td>\n",
       "      <td>1.5.1.2</td>\n",
       "      <td>NaN</td>\n",
       "      <td>..</td>\n",
       "      <td>0</td>\n",
       "    </tr>\n",
       "    <tr>\n",
       "      <th>1037</th>\n",
       "      <td>2016-10</td>\n",
       "      <td>Canada</td>\n",
       "      <td>2016A000011124</td>\n",
       "      <td>Canadian portfolio investment, foreign equity ...</td>\n",
       "      <td>All countries</td>\n",
       "      <td>Canadian dollar</td>\n",
       "      <td>Dollars</td>\n",
       "      <td>81</td>\n",
       "      <td>millions</td>\n",
       "      <td>6</td>\n",
       "      <td>v115115405</td>\n",
       "      <td>1.5.1.2</td>\n",
       "      <td>NaN</td>\n",
       "      <td>..</td>\n",
       "      <td>0</td>\n",
       "    </tr>\n",
       "    <tr>\n",
       "      <th>1181</th>\n",
       "      <td>2017-01</td>\n",
       "      <td>Canada</td>\n",
       "      <td>2016A000011124</td>\n",
       "      <td>Canadian portfolio investment, foreign equity ...</td>\n",
       "      <td>All countries</td>\n",
       "      <td>Canadian dollar</td>\n",
       "      <td>Dollars</td>\n",
       "      <td>81</td>\n",
       "      <td>millions</td>\n",
       "      <td>6</td>\n",
       "      <td>v115115405</td>\n",
       "      <td>1.5.1.2</td>\n",
       "      <td>NaN</td>\n",
       "      <td>..</td>\n",
       "      <td>0</td>\n",
       "    </tr>\n",
       "    <tr>\n",
       "      <th>1325</th>\n",
       "      <td>2017-04</td>\n",
       "      <td>Canada</td>\n",
       "      <td>2016A000011124</td>\n",
       "      <td>Canadian portfolio investment, foreign equity ...</td>\n",
       "      <td>All countries</td>\n",
       "      <td>Canadian dollar</td>\n",
       "      <td>Dollars</td>\n",
       "      <td>81</td>\n",
       "      <td>millions</td>\n",
       "      <td>6</td>\n",
       "      <td>v115115405</td>\n",
       "      <td>1.5.1.2</td>\n",
       "      <td>NaN</td>\n",
       "      <td>..</td>\n",
       "      <td>0</td>\n",
       "    </tr>\n",
       "    <tr>\n",
       "      <th>1469</th>\n",
       "      <td>2017-07</td>\n",
       "      <td>Canada</td>\n",
       "      <td>2016A000011124</td>\n",
       "      <td>Canadian portfolio investment, foreign equity ...</td>\n",
       "      <td>All countries</td>\n",
       "      <td>Canadian dollar</td>\n",
       "      <td>Dollars</td>\n",
       "      <td>81</td>\n",
       "      <td>millions</td>\n",
       "      <td>6</td>\n",
       "      <td>v115115405</td>\n",
       "      <td>1.5.1.2</td>\n",
       "      <td>NaN</td>\n",
       "      <td>..</td>\n",
       "      <td>0</td>\n",
       "    </tr>\n",
       "  </tbody>\n",
       "</table>\n",
       "</div>"
      ],
      "text/plain": [
       "     REF_DATE     GEO           DGUID  \\\n",
       "29    2015-01  Canada  2016A000011124   \n",
       "173   2015-04  Canada  2016A000011124   \n",
       "317   2015-07  Canada  2016A000011124   \n",
       "461   2015-10  Canada  2016A000011124   \n",
       "605   2016-01  Canada  2016A000011124   \n",
       "749   2016-04  Canada  2016A000011124   \n",
       "893   2016-07  Canada  2016A000011124   \n",
       "1037  2016-10  Canada  2016A000011124   \n",
       "1181  2017-01  Canada  2016A000011124   \n",
       "1325  2017-04  Canada  2016A000011124   \n",
       "1469  2017-07  Canada  2016A000011124   \n",
       "\n",
       "             Canada's international investment position Geographic region  \\\n",
       "29    Canadian portfolio investment, foreign equity ...     All countries   \n",
       "173   Canadian portfolio investment, foreign equity ...     All countries   \n",
       "317   Canadian portfolio investment, foreign equity ...     All countries   \n",
       "461   Canadian portfolio investment, foreign equity ...     All countries   \n",
       "605   Canadian portfolio investment, foreign equity ...     All countries   \n",
       "749   Canadian portfolio investment, foreign equity ...     All countries   \n",
       "893   Canadian portfolio investment, foreign equity ...     All countries   \n",
       "1037  Canadian portfolio investment, foreign equity ...     All countries   \n",
       "1181  Canadian portfolio investment, foreign equity ...     All countries   \n",
       "1325  Canadian portfolio investment, foreign equity ...     All countries   \n",
       "1469  Canadian portfolio investment, foreign equity ...     All countries   \n",
       "\n",
       "             Currency      UOM  UOM_ID SCALAR_FACTOR  SCALAR_ID      VECTOR  \\\n",
       "29    Canadian dollar  Dollars      81      millions          6  v115115405   \n",
       "173   Canadian dollar  Dollars      81      millions          6  v115115405   \n",
       "317   Canadian dollar  Dollars      81      millions          6  v115115405   \n",
       "461   Canadian dollar  Dollars      81      millions          6  v115115405   \n",
       "605   Canadian dollar  Dollars      81      millions          6  v115115405   \n",
       "749   Canadian dollar  Dollars      81      millions          6  v115115405   \n",
       "893   Canadian dollar  Dollars      81      millions          6  v115115405   \n",
       "1037  Canadian dollar  Dollars      81      millions          6  v115115405   \n",
       "1181  Canadian dollar  Dollars      81      millions          6  v115115405   \n",
       "1325  Canadian dollar  Dollars      81      millions          6  v115115405   \n",
       "1469  Canadian dollar  Dollars      81      millions          6  v115115405   \n",
       "\n",
       "     COORDINATE  VALUE STATUS  DECIMALS  \n",
       "29      1.5.1.2    NaN     ..         0  \n",
       "173     1.5.1.2    NaN     ..         0  \n",
       "317     1.5.1.2    NaN     ..         0  \n",
       "461     1.5.1.2    NaN     ..         0  \n",
       "605     1.5.1.2    NaN     ..         0  \n",
       "749     1.5.1.2    NaN     ..         0  \n",
       "893     1.5.1.2    NaN     ..         0  \n",
       "1037    1.5.1.2    NaN     ..         0  \n",
       "1181    1.5.1.2    NaN     ..         0  \n",
       "1325    1.5.1.2    NaN     ..         0  \n",
       "1469    1.5.1.2    NaN     ..         0  "
      ]
     },
     "execution_count": 4,
     "metadata": {},
     "output_type": "execute_result"
    }
   ],
   "source": [
    "df.loc[~df.STATUS.isnull()][:]"
   ]
  },
  {
   "cell_type": "code",
   "execution_count": 5,
   "metadata": {},
   "outputs": [
    {
     "name": "stdout",
     "output_type": "stream",
     "text": [
      "<class 'pandas.core.frame.DataFrame'>\n",
      "Int64Index: 3003 entries, 0 to 3013\n",
      "Data columns (total 14 columns):\n",
      " #   Column                                      Non-Null Count  Dtype  \n",
      "---  ------                                      --------------  -----  \n",
      " 0   REF_DATE                                    3003 non-null   object \n",
      " 1   GEO                                         3003 non-null   object \n",
      " 2   DGUID                                       3003 non-null   object \n",
      " 3   Canada's international investment position  3003 non-null   object \n",
      " 4   Geographic region                           3003 non-null   object \n",
      " 5   Currency                                    3003 non-null   object \n",
      " 6   UOM                                         3003 non-null   object \n",
      " 7   UOM_ID                                      3003 non-null   int64  \n",
      " 8   SCALAR_FACTOR                               3003 non-null   object \n",
      " 9   SCALAR_ID                                   3003 non-null   int64  \n",
      " 10  VECTOR                                      3003 non-null   object \n",
      " 11  COORDINATE                                  3003 non-null   object \n",
      " 12  VALUE                                       3003 non-null   float64\n",
      " 13  DECIMALS                                    3003 non-null   int64  \n",
      "dtypes: float64(1), int64(3), object(10)\n",
      "memory usage: 351.9+ KB\n"
     ]
    }
   ],
   "source": [
    "df = df.loc[~df.VALUE.isnull()]\n",
    "df.drop(columns=\"STATUS\", inplace=True)\n",
    "df.info()"
   ]
  },
  {
   "cell_type": "code",
   "execution_count": 6,
   "metadata": {},
   "outputs": [],
   "source": [
    "df.rename(columns={\"Canada's international investment position\":\"CIIP\"}, inplace=True)"
   ]
  },
  {
   "cell_type": "code",
   "execution_count": 7,
   "metadata": {},
   "outputs": [
    {
     "data": {
      "text/plain": [
       "REF_DATE               21\n",
       "GEO                     1\n",
       "DGUID                   1\n",
       "CIIP                   23\n",
       "Geographic region       1\n",
       "Currency                7\n",
       "UOM                     1\n",
       "UOM_ID                  1\n",
       "SCALAR_FACTOR           1\n",
       "SCALAR_ID               1\n",
       "VECTOR                143\n",
       "COORDINATE            143\n",
       "VALUE                2716\n",
       "DECIMALS                1\n",
       "dtype: int64"
      ]
     },
     "execution_count": 7,
     "metadata": {},
     "output_type": "execute_result"
    }
   ],
   "source": [
    "df.nunique()"
   ]
  },
  {
   "cell_type": "code",
   "execution_count": 8,
   "metadata": {},
   "outputs": [
    {
     "data": {
      "text/plain": [
       "array(['Total assets', 'Direct investment assets',\n",
       "       'Canadian portfolio investment',\n",
       "       'Canadian portfolio investment, foreign debt securities',\n",
       "       'Canadian portfolio investment, foreign equity and investment fund shares',\n",
       "       'Official international reserves', 'Other Canadian investment',\n",
       "       'Other Canadian investment, loans',\n",
       "       'Other Canadian investment, currency and deposits',\n",
       "       'Other Canadian investment, trade credits and advances',\n",
       "       'Other Canadian investment, other accounts receivable',\n",
       "       'Total liabilities', 'Direct investment liabilities',\n",
       "       'Foreign portfolio investment',\n",
       "       'Foreign portfolio investment, Canadian debt securities',\n",
       "       'Foreign portfolio investment, Canadian equity and investment fund shares',\n",
       "       'Other foreign investment', 'Other foreign investment, loans',\n",
       "       'Other foreign investment, currency and deposits',\n",
       "       'Other foreign investment, special drawing rights',\n",
       "       'Other foreign investment, trade credits and advances',\n",
       "       'Other foreign investment, other accounts payable',\n",
       "       \"Canada's net international investment position\"], dtype=object)"
      ]
     },
     "execution_count": 8,
     "metadata": {},
     "output_type": "execute_result"
    }
   ],
   "source": [
    "df.CIIP.unique()"
   ]
  },
  {
   "cell_type": "code",
   "execution_count": 31,
   "metadata": {},
   "outputs": [],
   "source": [
    "total_rows = [\"Total assets\", \"Total liabilities\"]\n",
    "total_cols = [\"REF_DATE\", \"CIIP\", \"VALUE\", \"Currency\"]\n",
    "total_df = df.loc[df.CIIP.isin(total_rows)][total_cols]\n",
    "total_df = total_df.loc[total_df.Currency != \"All currencies\"]\n",
    "total_df.set_index(\"REF_DATE\", inplace=True)\n",
    "total_df.head()"
   ]
  },
  {
   "cell_type": "code",
   "execution_count": 34,
   "metadata": {},
   "outputs": [
    {
     "name": "stdout",
     "output_type": "stream",
     "text": [
      "<class 'pandas.core.frame.DataFrame'>\n",
      "Index: 252 entries, 2015-01 to 2020-01\n",
      "Data columns (total 3 columns):\n",
      " #   Column    Non-Null Count  Dtype  \n",
      "---  ------    --------------  -----  \n",
      " 0   CIIP      252 non-null    object \n",
      " 1   VALUE     252 non-null    float64\n",
      " 2   Currency  252 non-null    object \n",
      "dtypes: float64(1), object(2)\n",
      "memory usage: 7.9+ KB\n"
     ]
    }
   ],
   "source": [
    "total_df.info()"
   ]
  },
  {
   "cell_type": "code",
   "execution_count": 43,
   "metadata": {},
   "outputs": [
    {
     "data": {
      "image/png": "[encoded data removed]",
      "text/plain": [
       "<Figure size 1224x1224 with 2 Axes>"
      ]
     },
     "metadata": {},
     "output_type": "display_data"
    }
   ],
   "source": [
    "g1 = total_df.groupby(by=[\"CIIP\", \"Currency\"]).mean().unstack(\"CIIP\")\n",
    "fig1 =g.plot.pie(subplots=True, figsize=(17, 17))"
   ]
  },
  {
   "cell_type": "code",
   "execution_count": 44,
   "metadata": {},
   "outputs": [
    {
     "data": {
      "text/html": [
       "<div>\n",
       "<style scoped>\n",
       "    .dataframe tbody tr th:only-of-type {\n",
       "        vertical-align: middle;\n",
       "    }\n",
       "\n",
       "    .dataframe tbody tr th {\n",
       "        vertical-align: top;\n",
       "    }\n",
       "\n",
       "    .dataframe thead th {\n",
       "        text-align: right;\n",
       "    }\n",
       "</style>\n",
       "<table border=\"1\" class=\"dataframe\">\n",
       "  <thead>\n",
       "    <tr style=\"text-align: right;\">\n",
       "      <th></th>\n",
       "      <th>CIIP</th>\n",
       "      <th>VALUE</th>\n",
       "      <th>Currency</th>\n",
       "    </tr>\n",
       "    <tr>\n",
       "      <th>REF_DATE</th>\n",
       "      <th></th>\n",
       "      <th></th>\n",
       "      <th></th>\n",
       "    </tr>\n",
       "  </thead>\n",
       "  <tbody>\n",
       "    <tr>\n",
       "      <th>2015-01</th>\n",
       "      <td>Direct investment assets</td>\n",
       "      <td>17233.0</td>\n",
       "      <td>Canadian dollar</td>\n",
       "    </tr>\n",
       "    <tr>\n",
       "      <th>2015-01</th>\n",
       "      <td>Direct investment assets</td>\n",
       "      <td>758364.0</td>\n",
       "      <td>United States dollar</td>\n",
       "    </tr>\n",
       "    <tr>\n",
       "      <th>2015-01</th>\n",
       "      <td>Direct investment assets</td>\n",
       "      <td>182770.0</td>\n",
       "      <td>Euro</td>\n",
       "    </tr>\n",
       "    <tr>\n",
       "      <th>2015-01</th>\n",
       "      <td>Direct investment assets</td>\n",
       "      <td>133762.0</td>\n",
       "      <td>United Kingdom pound sterling</td>\n",
       "    </tr>\n",
       "    <tr>\n",
       "      <th>2015-01</th>\n",
       "      <td>Direct investment assets</td>\n",
       "      <td>10224.0</td>\n",
       "      <td>Japanese yen</td>\n",
       "    </tr>\n",
       "  </tbody>\n",
       "</table>\n",
       "</div>"
      ],
      "text/plain": [
       "                              CIIP     VALUE                       Currency\n",
       "REF_DATE                                                                   \n",
       "2015-01   Direct investment assets   17233.0                Canadian dollar\n",
       "2015-01   Direct investment assets  758364.0           United States dollar\n",
       "2015-01   Direct investment assets  182770.0                           Euro\n",
       "2015-01   Direct investment assets  133762.0  United Kingdom pound sterling\n",
       "2015-01   Direct investment assets   10224.0                   Japanese yen"
      ]
     },
     "execution_count": 44,
     "metadata": {},
     "output_type": "execute_result"
    }
   ],
   "source": [
    "asset_rows = [\"Direct investment assets\", \"Canadian portfolio investment\", \"Official international reserves\", ...,\n",
    "             \"Other Canadian investment\"]\n",
    "asset_cols = [\"REF_DATE\", \"CIIP\", \"VALUE\", \"Currency\"]\n",
    "asset_df = df.loc[df.CIIP.isin(asset_rows)][asset_cols]\n",
    "asset_df = asset_df.loc[asset_df.Currency != \"All currencies\"]\n",
    "asset_df.set_index(\"REF_DATE\", inplace=True)\n",
    "asset_df.head()"
   ]
  },
  {
   "cell_type": "code",
   "execution_count": 45,
   "metadata": {},
   "outputs": [
    {
     "name": "stdout",
     "output_type": "stream",
     "text": [
      "<class 'pandas.core.frame.DataFrame'>\n",
      "Index: 483 entries, 2015-01 to 2020-01\n",
      "Data columns (total 3 columns):\n",
      " #   Column    Non-Null Count  Dtype  \n",
      "---  ------    --------------  -----  \n",
      " 0   CIIP      483 non-null    object \n",
      " 1   VALUE     483 non-null    float64\n",
      " 2   Currency  483 non-null    object \n",
      "dtypes: float64(1), object(2)\n",
      "memory usage: 15.1+ KB\n"
     ]
    }
   ],
   "source": [
    "asset_df.info()"
   ]
  },
  {
   "cell_type": "code",
   "execution_count": 151,
   "metadata": {},
   "outputs": [
    {
     "data": {
      "image/png": "[encoded data removed]",
      "text/plain": [
       "<Figure size 720x504 with 1 Axes>"
      ]
     },
     "metadata": {
      "needs_background": "light"
     },
     "output_type": "display_data"
    }
   ],
   "source": [
    "g2 = asset_df.loc[asset_df.Currency==\"United States dollar\"][:]\n",
    "g2 = g2.groupby(by=[g2.index, \"CIIP\"]).sum().unstack(\"CIIP\")\n",
    "fig2 = g2.plot.bar(y=\"VALUE\", stacked=True, figsize=(10, 7))"
   ]
  },
  {
   "cell_type": "code",
   "execution_count": 46,
   "metadata": {},
   "outputs": [
    {
     "data": {
      "text/html": [
       "<div>\n",
       "<style scoped>\n",
       "    .dataframe tbody tr th:only-of-type {\n",
       "        vertical-align: middle;\n",
       "    }\n",
       "\n",
       "    .dataframe tbody tr th {\n",
       "        vertical-align: top;\n",
       "    }\n",
       "\n",
       "    .dataframe thead th {\n",
       "        text-align: right;\n",
       "    }\n",
       "</style>\n",
       "<table border=\"1\" class=\"dataframe\">\n",
       "  <thead>\n",
       "    <tr style=\"text-align: right;\">\n",
       "      <th></th>\n",
       "      <th>CIIP</th>\n",
       "      <th>VALUE</th>\n",
       "      <th>Currency</th>\n",
       "    </tr>\n",
       "    <tr>\n",
       "      <th>REF_DATE</th>\n",
       "      <th></th>\n",
       "      <th></th>\n",
       "      <th></th>\n",
       "    </tr>\n",
       "  </thead>\n",
       "  <tbody>\n",
       "    <tr>\n",
       "      <th>2015-01</th>\n",
       "      <td>Direct investment liabilities</td>\n",
       "      <td>1141383.0</td>\n",
       "      <td>Canadian dollar</td>\n",
       "    </tr>\n",
       "    <tr>\n",
       "      <th>2015-01</th>\n",
       "      <td>Direct investment liabilities</td>\n",
       "      <td>51367.0</td>\n",
       "      <td>United States dollar</td>\n",
       "    </tr>\n",
       "    <tr>\n",
       "      <th>2015-01</th>\n",
       "      <td>Direct investment liabilities</td>\n",
       "      <td>35927.0</td>\n",
       "      <td>Other currencies</td>\n",
       "    </tr>\n",
       "    <tr>\n",
       "      <th>2015-01</th>\n",
       "      <td>Foreign portfolio investment</td>\n",
       "      <td>1030744.0</td>\n",
       "      <td>Canadian dollar</td>\n",
       "    </tr>\n",
       "    <tr>\n",
       "      <th>2015-01</th>\n",
       "      <td>Foreign portfolio investment</td>\n",
       "      <td>617187.0</td>\n",
       "      <td>United States dollar</td>\n",
       "    </tr>\n",
       "  </tbody>\n",
       "</table>\n",
       "</div>"
      ],
      "text/plain": [
       "                                   CIIP      VALUE              Currency\n",
       "REF_DATE                                                                \n",
       "2015-01   Direct investment liabilities  1141383.0       Canadian dollar\n",
       "2015-01   Direct investment liabilities    51367.0  United States dollar\n",
       "2015-01   Direct investment liabilities    35927.0      Other currencies\n",
       "2015-01    Foreign portfolio investment  1030744.0       Canadian dollar\n",
       "2015-01    Foreign portfolio investment   617187.0  United States dollar"
      ]
     },
     "execution_count": 46,
     "metadata": {},
     "output_type": "execute_result"
    }
   ],
   "source": [
    "liab_rows = [\"Direct investment liabilities\", \"Foreign portfolio investment\", \"Other foreign investment\"]\n",
    "liab_cols = [\"REF_DATE\", \"CIIP\", \"VALUE\", \"Currency\"]\n",
    "liab_df = df.loc[df.CIIP.isin(liab_rows)][liab_cols]\n",
    "liab_df = liab_df.loc[liab_df.Currency != \"All currencies\"]\n",
    "liab_df.set_index(\"REF_DATE\", inplace=True)\n",
    "liab_df.head()"
   ]
  },
  {
   "cell_type": "code",
   "execution_count": 47,
   "metadata": {},
   "outputs": [
    {
     "name": "stdout",
     "output_type": "stream",
     "text": [
      "<class 'pandas.core.frame.DataFrame'>\n",
      "Index: 315 entries, 2015-01 to 2020-01\n",
      "Data columns (total 3 columns):\n",
      " #   Column    Non-Null Count  Dtype  \n",
      "---  ------    --------------  -----  \n",
      " 0   CIIP      315 non-null    object \n",
      " 1   VALUE     315 non-null    float64\n",
      " 2   Currency  315 non-null    object \n",
      "dtypes: float64(1), object(2)\n",
      "memory usage: 9.8+ KB\n"
     ]
    }
   ],
   "source": [
    "liab_df.info()"
   ]
  },
  {
   "cell_type": "code",
   "execution_count": 154,
   "metadata": {},
   "outputs": [
    {
     "data": {
      "image/png": "[encoded data removed]",
      "text/plain": [
       "<Figure size 720x504 with 1 Axes>"
      ]
     },
     "metadata": {
      "needs_background": "light"
     },
     "output_type": "display_data"
    }
   ],
   "source": [
    "g3 = liab_df.loc[liab_df.Currency!=\"Canadian dollar\"][:]\n",
    "g3 = g3.groupby(by=[g3.index, \"CIIP\"]).sum().unstack(\"CIIP\")\n",
    "fig3 = g3.plot.bar(y=\"VALUE\", stacked=True, figsize=(10, 7))"
   ]
  },
  {
   "cell_type": "code",
   "execution_count": 128,
   "metadata": {},
   "outputs": [
    {
     "data": {
      "image/png": "[encoded data removed]",
      "text/plain": [
       "<Figure size 720x504 with 1 Axes>"
      ]
     },
     "metadata": {
      "needs_background": "light"
     },
     "output_type": "display_data"
    }
   ],
   "source": [
    "g4 = liab_df.groupby(by=[liab_df.index, \"Currency\"]).sum().unstack(\"Currency\")\n",
    "fig4 = g4.plot.bar(y=\"VALUE\", stacked=True, figsize=(10, 7))\n",
    "plt.legend(loc='upper left');\n",
    "plt.title(\"Canada's liabilities\");"
   ]
  },
  {
   "cell_type": "code",
   "execution_count": 139,
   "metadata": {},
   "outputs": [
    {
     "data": {
      "text/plain": [
       "MultiIndex([('VALUE',               'Canadian dollar'),\n",
       "            ('VALUE',                          'Euro'),\n",
       "            ('VALUE',                  'Japanese yen'),\n",
       "            ('VALUE',              'Other currencies'),\n",
       "            ('VALUE', 'United Kingdom pound sterling'),\n",
       "            ('VALUE',          'United States dollar')],\n",
       "           names=[None, 'Currency'])"
      ]
     },
     "execution_count": 139,
     "metadata": {},
     "output_type": "execute_result"
    }
   ],
   "source": [
    "g4.columns"
   ]
  },
  {
   "cell_type": "code",
   "execution_count": 143,
   "metadata": {},
   "outputs": [
    {
     "data": {
      "text/plain": [
       "REF_DATE\n",
       "2015-01    2323460.0\n",
       "2015-04    2324619.0\n",
       "2015-07    2210650.0\n",
       "2015-10    2240761.0\n",
       "2016-01    2258621.0\n",
       "2016-04    2351189.0\n",
       "2016-07    2422674.0\n",
       "2016-10    2460154.0\n",
       "2017-01    2515185.0\n",
       "2017-04    2517882.0\n",
       "2017-07    2549649.0\n",
       "2017-10    2615428.0\n",
       "2018-01    2527114.0\n",
       "2018-04    2644846.0\n",
       "2018-07    2619181.0\n",
       "2018-10    2517673.0\n",
       "2019-01    2744962.0\n",
       "2019-04    2749209.0\n",
       "2019-07    2780756.0\n",
       "2019-10    2864167.0\n",
       "2020-01    2493874.0\n",
       "Name: (VALUE, Canadian dollar), dtype: float64"
      ]
     },
     "execution_count": 143,
     "metadata": {},
     "output_type": "execute_result"
    }
   ],
   "source": [
    "g4.loc[:][('VALUE', 'Canadian dollar')]"
   ]
  },
  {
   "cell_type": "code",
   "execution_count": 142,
   "metadata": {},
   "outputs": [
    {
     "data": {
      "text/plain": [
       "Index(['Canadian dollar', 'Euro', 'Japanese yen', 'Other currencies',\n",
       "       'United Kingdom pound sterling', 'United States dollar'],\n",
       "      dtype='object', name='Currency')"
      ]
     },
     "execution_count": 142,
     "metadata": {},
     "output_type": "execute_result"
    }
   ],
   "source": [
    "g4.loc[:][\"VALUE\"].columns"
   ]
  },
  {
   "cell_type": "code",
   "execution_count": null,
   "metadata": {},
   "outputs": [],
   "source": []
  }
 ],
 "metadata": {
  "kernelspec": {
   "display_name": "Python 3",
   "language": "python",
   "name": "python3"
  },
  "language_info": {
   "codemirror_mode": {
    "name": "ipython",
    "version": 3
   },
   "file_extension": ".py",
   "mimetype": "text/x-python",
   "name": "python",
   "nbconvert_exporter": "python",
   "pygments_lexer": "ipython3",
   "version": "3.6.9"
  }
 },
 "nbformat": 4,
 "nbformat_minor": 4
}
